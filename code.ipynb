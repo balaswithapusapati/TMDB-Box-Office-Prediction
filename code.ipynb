{
 "cells": [
  {
   "cell_type": "code",
   "execution_count": 28,
   "metadata": {},
   "outputs": [],
   "source": [
    "# Step 1: Import necessary libraries\n",
    "\n",
    "import pandas as pd\n",
    "import numpy as np\n",
    "from sklearn.model_selection import train_test_split\n",
    "from sklearn.metrics import mean_squared_error, r2_score, mean_absolute_error\n",
    "from xgboost import XGBRegressor\n",
    "import ast"
   ]
  },
  {
   "cell_type": "code",
   "execution_count": 29,
   "metadata": {},
   "outputs": [],
   "source": [
    "# Step 2: Load and Merge Data\n",
    "\n",
    "# Load train and test datasets\n",
    "train = pd.read_csv(r\"D:\\AI\\ML\\TMDB Box Office Prediction\\train.csv\")\n",
    "test = pd.read_csv(r\"D:\\AI\\ML\\TMDB Box Office Prediction\\test.csv\")\n",
    "\n",
    "# Drop unnecessary columns\n",
    "columns_to_drop = ['imdb_id', 'poster_path', 'original_title', 'title', 'overview', 'tagline', 'cast', 'crew']\n",
    "df = pd.concat([train, test], ignore_index=True).drop(columns=columns_to_drop)"
   ]
  },
  {
   "cell_type": "code",
   "execution_count": 30,
   "metadata": {},
   "outputs": [
    {
     "name": "stderr",
     "output_type": "stream",
     "text": [
      "C:\\Users\\balas\\AppData\\Local\\Temp\\ipykernel_14888\\4677206.py:4: UserWarning: Could not infer format, so each element will be parsed individually, falling back to `dateutil`. To ensure parsing is consistent and as-expected, please specify a format.\n",
      "  df['release_date'] = pd.to_datetime(df['release_date'], errors='coerce')\n"
     ]
    }
   ],
   "source": [
    "# Step 3: Preprocess Release Date\n",
    "\n",
    "# Convert release_date to datetime and extract year, month, and day of the week\n",
    "df['release_date'] = pd.to_datetime(df['release_date'], errors='coerce')\n",
    "df['release_year'] = df['release_date'].dt.year\n",
    "df['release_year'] = df['release_year'].apply(lambda x: x-100 if x > 2022 else x)\n",
    "df['release_month'] = df['release_date'].dt.month\n",
    "df['release_wday'] = df['release_date'].dt.dayofweek\n",
    "\n",
    "# Drop rows with missing release_date and runtime\n",
    "df.dropna(subset=['release_date', 'runtime'], inplace=True)\n"
   ]
  },
  {
   "cell_type": "code",
   "execution_count": 31,
   "metadata": {},
   "outputs": [],
   "source": [
    "# Step 4: Convert Boolean Columns\n",
    "\n",
    "# Convert homepage and belongs_to_collection to binary indicators\n",
    "df['homepage'] = df['homepage'].notna().astype(int)\n",
    "df['belongs_to_collection'] = df['belongs_to_collection'].notna().astype(int)\n",
    "df['status'] = df['status'].fillna('Released')"
   ]
  },
  {
   "cell_type": "code",
   "execution_count": 32,
   "metadata": {},
   "outputs": [],
   "source": [
    "# Step 5: Define a Function to Create Dummy Variables\n",
    "\n",
    "def dummy_new2(col, key):\n",
    "    temp = pd.DataFrame(df[df[col].notnull()][col].apply(lambda x: [i[key] for i in ast.literal_eval(x)]))\n",
    "    temp = pd.get_dummies(temp.explode(col)).groupby(level=0).sum()\n",
    "    df.loc[df[col].notnull(), temp.columns.tolist()] = temp\n",
    "    df.drop(columns=col, inplace=True)"
   ]
  },
  {
   "cell_type": "code",
   "execution_count": 33,
   "metadata": {},
   "outputs": [],
   "source": [
    "# Step 6: Apply the Function to Relevant Columns\n",
    "\n",
    "columns_to_dummy = ['genres', 'production_companies', 'production_countries', 'spoken_languages', 'Keywords']\n",
    "keys = ['id', 'id', 'iso_3166_1', 'iso_639_1', 'id']\n",
    "\n",
    "for col, key in zip(columns_to_dummy, keys):\n",
    "    dummy_new2(col, key)"
   ]
  },
  {
   "cell_type": "code",
   "execution_count": 34,
   "metadata": {},
   "outputs": [],
   "source": [
    "# Step 7: Drop Remaining Unnecessary Columns\n",
    "\n",
    "df.drop(columns=['release_date'], inplace=True)"
   ]
  },
  {
   "cell_type": "code",
   "execution_count": 35,
   "metadata": {},
   "outputs": [],
   "source": [
    "# Step 8: Split Data Back into Train and Test Sets\n",
    "\n",
    "df_train = df[df['id'] <= 3000]\n",
    "df_test = df[df['id'] > 3000]"
   ]
  },
  {
   "cell_type": "code",
   "execution_count": 36,
   "metadata": {},
   "outputs": [
    {
     "name": "stderr",
     "output_type": "stream",
     "text": [
      "C:\\Users\\balas\\AppData\\Local\\Temp\\ipykernel_14888\\1440517037.py:4: SettingWithCopyWarning: \n",
      "A value is trying to be set on a copy of a slice from a DataFrame\n",
      "\n",
      "See the caveats in the documentation: https://pandas.pydata.org/pandas-docs/stable/user_guide/indexing.html#returning-a-view-versus-a-copy\n",
      "  df_train.fillna(0, inplace=True)\n",
      "C:\\Users\\balas\\AppData\\Local\\Temp\\ipykernel_14888\\1440517037.py:5: SettingWithCopyWarning: \n",
      "A value is trying to be set on a copy of a slice from a DataFrame\n",
      "\n",
      "See the caveats in the documentation: https://pandas.pydata.org/pandas-docs/stable/user_guide/indexing.html#returning-a-view-versus-a-copy\n",
      "  df_test.fillna(0, inplace=True)\n"
     ]
    }
   ],
   "source": [
    "# Step 9: Handle Missing Values and Prepare Data for Modeling\n",
    "\n",
    "# Fill missing values with 0\n",
    "df_train.fillna(0, inplace=True)\n",
    "df_test.fillna(0, inplace=True)\n",
    "\n",
    "# Define features and target variable\n",
    "X_train = df_train.drop(columns=['revenue', 'id'])\n",
    "y_train = df_train['revenue']\n",
    "X_test = df_test.drop(columns=['revenue', 'id'])"
   ]
  },
  {
   "cell_type": "code",
   "execution_count": 37,
   "metadata": {},
   "outputs": [
    {
     "name": "stdout",
     "output_type": "stream",
     "text": [
      "Train R2 Score: 0.9698115638680059\n"
     ]
    }
   ],
   "source": [
    "# Step 10: Train and Evaluate Model\n",
    "\n",
    "# Use one-hot encoding\n",
    "X_train = pd.get_dummies(X_train, columns=['original_language', 'status'])\n",
    "X_test = pd.get_dummies(X_test, columns=['original_language', 'status'])\n",
    "\n",
    "# Align columns of X_train and X_test\n",
    "X_test = X_test.reindex(columns=X_train.columns, fill_value=0)\n",
    "\n",
    "# Initialize and train XGBRegressor\n",
    "xgb = XGBRegressor(tree_method=\"hist\", enable_categorical=True)\n",
    "xgb.fit(X_train, y_train)\n",
    "\n",
    "# Make predictions on the training set (for demonstration purposes)\n",
    "y_pred_train = xgb.predict(X_train)\n",
    "\n",
    "# Evaluate the model on the training set\n",
    "print(f\"Train R2 Score: {r2_score(y_train, y_pred_train)}\")"
   ]
  },
  {
   "cell_type": "code",
   "execution_count": 38,
   "metadata": {},
   "outputs": [
    {
     "name": "stderr",
     "output_type": "stream",
     "text": [
      "C:\\Users\\balas\\AppData\\Local\\Temp\\ipykernel_14888\\1847141852.py:14: FutureWarning: A value is trying to be set on a copy of a DataFrame or Series through chained assignment using an inplace method.\n",
      "The behavior will change in pandas 3.0. This inplace method will never work because the intermediate object on which we are setting values always behaves as a copy.\n",
      "\n",
      "For example, when doing 'df[col].method(value, inplace=True)', try using 'df.method({col: value}, inplace=True)' or df[col] = df[col].method(value) instead, to perform the operation inplace on the original object.\n",
      "\n",
      "\n",
      "  submission['revenue'].fillna(0, inplace=True)\n"
     ]
    }
   ],
   "source": [
    "# Step 11: Prepare Submission File\n",
    "\n",
    "# Make predictions on the test set\n",
    "pred = xgb.predict(X_test)\n",
    "\n",
    "# Ensure submission has all IDs from the original test.csv\n",
    "original_test = pd.read_csv(r\"D:\\AI\\ML\\TMDB Box Office Prediction\\test.csv\")\n",
    "submission = pd.DataFrame({'id': original_test['id']})\n",
    "\n",
    "# Merge predictions with all test IDs\n",
    "submission = submission.merge(pd.DataFrame({'id': df_test['id'], 'revenue': pred}), on='id', how='left')\n",
    "\n",
    "# Fill missing revenue predictions with a default value (e.g., 0)\n",
    "submission['revenue'].fillna(0, inplace=True)\n",
    "\n",
    "# Save to CSV\n",
    "submission.to_csv('submission.csv', index=False)\n",
    "\n",
    "\n",
    "# Save to CSV\n",
    "submission.to_csv('submission.csv', index=False)"
   ]
  }
 ],
 "metadata": {
  "kernelspec": {
   "display_name": "Python 3",
   "language": "python",
   "name": "python3"
  },
  "language_info": {
   "codemirror_mode": {
    "name": "ipython",
    "version": 3
   },
   "file_extension": ".py",
   "mimetype": "text/x-python",
   "name": "python",
   "nbconvert_exporter": "python",
   "pygments_lexer": "ipython3",
   "version": "3.12.4"
  }
 },
 "nbformat": 4,
 "nbformat_minor": 2
}
